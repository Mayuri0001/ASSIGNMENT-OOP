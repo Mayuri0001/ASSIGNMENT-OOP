{
 "cells": [
  {
   "cell_type": "markdown",
   "id": "984cb5a3",
   "metadata": {},
   "source": [
    "**Write a Python class to implement pow(x,n)**"
   ]
  },
  {
   "cell_type": "code",
   "execution_count": 2,
   "id": "de614ce7",
   "metadata": {
    "scrolled": true
   },
   "outputs": [
    {
     "name": "stdout",
     "output_type": "stream",
     "text": [
      "100\n"
     ]
    }
   ],
   "source": [
    "class power:\n",
    "    def num(a,b):\n",
    "        return pow(a,b)\n",
    "print (power.num(10,2))"
   ]
  },
  {
   "cell_type": "code",
   "execution_count": 6,
   "id": "ca1d080a",
   "metadata": {},
   "outputs": [
    {
     "name": "stdout",
     "output_type": "stream",
     "text": [
      "100\n"
     ]
    }
   ],
   "source": [
    "class power_solution:\n",
    "    def pow(self, a, b):\n",
    "        if a==0 or a==1 or b==1:\n",
    "            return a \n",
    "\n",
    "        if a==-1:\n",
    "            if b%2 ==0:\n",
    "                return 1\n",
    "            else:\n",
    "                return -1\n",
    "        if b==0:\n",
    "            return 1\n",
    "        if b<0:\n",
    "            return 1/self.pow(a,-b)\n",
    "        val = self.pow(a,b//2)\n",
    "        if b%2 ==0:\n",
    "            return val*val\n",
    "        return val*val*a\n",
    "\n",
    "print(power_solution().pow(10,2))"
   ]
  },
  {
   "cell_type": "code",
   "execution_count": null,
   "id": "bc0eac98",
   "metadata": {},
   "outputs": [],
   "source": []
  }
 ],
 "metadata": {
  "kernelspec": {
   "display_name": "Python 3 (ipykernel)",
   "language": "python",
   "name": "python3"
  },
  "language_info": {
   "codemirror_mode": {
    "name": "ipython",
    "version": 3
   },
   "file_extension": ".py",
   "mimetype": "text/x-python",
   "name": "python",
   "nbconvert_exporter": "python",
   "pygments_lexer": "ipython3",
   "version": "3.10.2"
  }
 },
 "nbformat": 4,
 "nbformat_minor": 5
}
